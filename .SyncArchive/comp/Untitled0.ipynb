{
 "metadata": {
  "name": ""
 },
 "nbformat": 3,
 "nbformat_minor": 0,
 "worksheets": [
  {
   "cells": [
    {
     "cell_type": "code",
     "collapsed": false,
     "input": [
      "# imports\n",
      "from bpf4 import bpf\n",
      "from em import comp\n",
      "from peach import *"
     ],
     "language": "python",
     "metadata": {},
     "outputs": [],
     "prompt_number": 4
    },
    {
     "cell_type": "code",
     "collapsed": false,
     "input": [
      "total_duration = 12 * 60\n",
      "forma = {\n",
      "    'exposicion': 0,\n",
      "    'temab': 0.18,\n",
      "    'preclimax0': 0.42,\n",
      "    'preclimax1': 0.47,\n",
      "    'climax0': 0.68,\n",
      "    'climax1': 0.77,\n",
      "    'pedal':0.8,\n",
      "    'reexp': 0.85,\n",
      "    'coda': 0.95\n",
      "}\n",
      "\n",
      "    \n",
      "    \n",
      "    "
     ],
     "language": "python",
     "metadata": {},
     "outputs": [],
     "prompt_number": 6
    },
    {
     "cell_type": "code",
     "collapsed": false,
     "input": [
      " "
     ],
     "language": "python",
     "metadata": {},
     "outputs": []
    }
   ],
   "metadata": {}
  }
 ]
}