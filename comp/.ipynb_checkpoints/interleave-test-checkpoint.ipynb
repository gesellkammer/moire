{
 "metadata": {
  "name": ""
 },
 "nbformat": 3,
 "nbformat_minor": 0,
 "worksheets": [
  {
   "cells": [
    {
     "cell_type": "code",
     "collapsed": false,
     "input": [
      "from __future__ import division\n",
      "from bpf4 import bpf\n",
      "\n",
      "def interleave(xs, ys, ratio=0.5):\n",
      "    \"\"\"\n",
      "    interleave the elements of xs and ys in the most regular way possible\n",
      "    \"\"\"\n",
      "    if not ys:\n",
      "        return xs\n",
      "    elif not xs:\n",
      "        return ys\n",
      "    c = bpf.linear(0, 1/len(xs), 0.5, len(xs)/len(ys), 1, len(xs))\n",
      "    \n",
      "    xr = c(ratio)\n",
      "    print xr\n",
      "    \n",
      "    r = xr\n",
      "    out = []\n",
      "    L = len(xs)+len(ys)\n",
      "    while True:\n",
      "        if r >= 1:\n",
      "            try:\n",
      "                out.append(xs.pop())\n",
      "            except IndexError:\n",
      "                pass\n",
      "                #v = ys.pop()\n",
      "            r -= 1\n",
      "        else:\n",
      "            try:\n",
      "                out.append(ys.pop())\n",
      "            except IndexError:\n",
      "                pass\n",
      "            r += xr\n",
      "        if len(out) == L:\n",
      "            break\n",
      "            \n",
      "    return out"
     ],
     "language": "python",
     "metadata": {},
     "outputs": [],
     "prompt_number": 87
    },
    {
     "cell_type": "code",
     "collapsed": false,
     "input": [
      "interleave(list(\"AAAAA\"), list(\"BBB\"), 0)"
     ],
     "language": "python",
     "metadata": {},
     "outputs": [
      {
       "output_type": "stream",
       "stream": "stdout",
       "text": [
        "0.2\n"
       ]
      },
      {
       "metadata": {},
       "output_type": "pyout",
       "prompt_number": 90,
       "text": [
        "['B', 'B', 'B', 'B', 'A', 'A', 'A', 'A']"
       ]
      }
     ],
     "prompt_number": 90
    },
    {
     "cell_type": "code",
     "collapsed": false,
     "input": [
      "5/8."
     ],
     "language": "python",
     "metadata": {},
     "outputs": [
      {
       "metadata": {},
       "output_type": "pyout",
       "prompt_number": 72,
       "text": [
        "0.625"
       ]
      }
     ],
     "prompt_number": 72
    },
    {
     "cell_type": "code",
     "collapsed": false,
     "input": [],
     "language": "python",
     "metadata": {},
     "outputs": []
    }
   ],
   "metadata": {}
  }
 ]
}