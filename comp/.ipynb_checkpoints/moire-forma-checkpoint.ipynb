{
 "metadata": {
  "name": ""
 },
 "nbformat": 3,
 "nbformat_minor": 0,
 "worksheets": [
  {
   "cells": [
    {
     "cell_type": "code",
     "collapsed": false,
     "input": [
      "from __future__ import division\n",
      "from bpf4 import bpf\n",
      "from em import collections as coll\n",
      "from fractions import Fraction\n",
      "from em import lib\n",
      "from em.comp.timing import Dur\n",
      "from em.comp import timing\n",
      "from matplotlib import pyplot\n",
      "from em import iterlib\n",
      "from em import distribute\n",
      "from em import combinatorics\n",
      "from em import lib\n",
      "import itertools\n",
      "from collections import namedtuple\n",
      "import time\n",
      "from matplotlib import pyplot as plt\n",
      "reload(combinatorics)\n",
      "reload(lib)\n",
      "reload(coll)\n",
      "reload(timing)\n",
      "D=Dur"
     ],
     "language": "python",
     "metadata": {},
     "outputs": [],
     "prompt_number": 578
    },
    {
     "cell_type": "code",
     "collapsed": false,
     "input": [
      "globaltempo = 40\n",
      "total_duration = 12*60"
     ],
     "language": "python",
     "metadata": {},
     "outputs": [],
     "prompt_number": 69
    },
    {
     "cell_type": "code",
     "collapsed": false,
     "input": [
      "class PulseDur:\n",
      "    def getdur(self, tempo=None):\n",
      "        tempo = tempo or globaltempo\n",
      "        return float(self.pulses * (60/tempo))\n",
      "\n",
      "class N(namedtuple(\"_Node\", \"kind pulses\"), PulseDur):\n",
      "    def __repr__(self): \n",
      "        return \":\".join([self.kind, str(self.pulses)])\n",
      "    \n",
      "def linlin(x, x0, x1, y0, y1):\n",
      "    return (x - x0)/(x1-x0) * (y1-y0) + y0\n",
      "\n",
      "def is_sorted(seq): return seq == sorted(seq)\n"
     ],
     "language": "python",
     "metadata": {},
     "outputs": [],
     "prompt_number": 362
    },
    {
     "cell_type": "code",
     "collapsed": false,
     "input": [
      "class Iteration(list, PulseDur):\n",
      "    def __init__(self, *nodes):\n",
      "        if len(nodes) == 1 and isinstance(nodes[0], basestring):\n",
      "            nodes = parse_nodes(nodes[0])\n",
      "        self.extend(nodes)\n",
      "    @property\n",
      "    def pulses(self):\n",
      "        return sum(n.pulses for n in self)\n",
      "    \n",
      "def parse_nodes(nodestr):\n",
      "    \"\"\" parses a string like A:3/4 B:5/8 C:3/4 ...\n",
      "        -> returns a list of N(odes)\n",
      "    \"\"\"\n",
      "    def parse_node(node):\n",
      "        kind, pulses = node.split(\":\")\n",
      "        if \"/\" in pulses:\n",
      "            num, den = map(int, pulses.split(\"/\"))\n",
      "            pulses = Dur(num, den)\n",
      "        else:\n",
      "            pulses = Dur(float(pulses))\n",
      "        return N(kind, pulses)\n",
      "    nodes = nodestr.split()\n",
      "    nodes = [parse_node(node) for node in nodes]\n",
      "    return nodes"
     ],
     "language": "python",
     "metadata": {},
     "outputs": [],
     "prompt_number": 71
    },
    {
     "cell_type": "code",
     "collapsed": false,
     "input": [
      "class Branch(list, PulseDur):\n",
      "    def __init__(self, *iterations):\n",
      "        self.extend([Iteration(it) for it in iterations])\n",
      "    @property\n",
      "    def pulses(self):\n",
      "        return sum(it.pulses for it in self)\n",
      "    "
     ],
     "language": "python",
     "metadata": {},
     "outputs": [],
     "prompt_number": 72
    },
    {
     "cell_type": "markdown",
     "metadata": {},
     "source": [
      "## Definicion de maximos y minimos"
     ]
    },
    {
     "cell_type": "code",
     "collapsed": false,
     "input": [
      "iteration_mindur = Dur(3,8) * 2 + Dur(4,8)\n",
      "iteration_maxdur = Dur(6,4) * 6\n",
      "branch_shortest = Branch(\n",
      "    \"A:3/8 A:3/8 A:2/8 B:3/8\",\n",
      "    \"A:3/8 A:2/8 B:3/8 A:2/8 B:1/8\",\n",
      "    \"A:2/8 B:3/8 A:2/8 B:1/8 B:1/8\",\n",
      "    #\"A:2/8 B:1/8 A:1/8 B:1/8\"\n",
      ")\n",
      "\n",
      "branch_longest = Branch(\n",
      "    \"A:5/4 A:9/8 A:11/8 B:3/8 B:2/4\",\n",
      "    \"A:9/8 A:11/8 B:3/8 B:2/4 B:3/4\",\n",
      "    \"A:11/8 B:3/8 A:10/8 B:2/4 B:3/4\",\n",
      "    \"A:10/8 B:2/4 B:3/4 A:9/8 B:5/4\"\n",
      ")\n",
      "\n",
      "br_mindur = branch_shortest.getdur()\n",
      "br_maxdur = branch_longest.getdur()\n",
      "\n",
      "print \"Mindur: \", br_mindur, \"   Maxdur\", br_maxdur, \"   Variation %.1f\" % (br_maxdur / br_mindur)"
     ],
     "language": "python",
     "metadata": {},
     "outputs": [
      {
       "output_type": "stream",
       "stream": "stdout",
       "text": [
        "Mindur:  23.25    Maxdur 107.25    Variation 4.6\n"
       ]
      }
     ],
     "prompt_number": 73
    },
    {
     "cell_type": "markdown",
     "metadata": {},
     "source": [
      "# Branches"
     ]
    },
    {
     "cell_type": "code",
     "collapsed": false,
     "input": [
      "branchdur_curve = bpf.multi(0, linlin(0.31, 0, 1, br_mindur, br_maxdur), \"halfcosm(1.8)\",\n",
      "                            0.35, br_maxdur, \"linear\",\n",
      "                            0.40, br_maxdur, \"halfcos2(0.8)\",\n",
      "                            0.68, br_mindur, \"linear\",\n",
      "                            0.70, br_mindur, \"expon(2)\",\n",
      "                            1, linlin(0.68, 0, 1, br_mindur, br_maxdur),\n",
      ").fit_between(0, total_duration)\n",
      "\n",
      "def get_branches(branchdur_curve=branchdur_curve, duration=total_duration):\n",
      "    t = 0\n",
      "    branch_durs, branch_offsets = [], []\n",
      "    while duration > 0:\n",
      "        branchdur = branchdur_curve(t)\n",
      "        duration = duration - branchdur\n",
      "        branch_durs.append(branchdur)\n",
      "        branch_offsets.append(t)\n",
      "        t += branchdur\n",
      "    return branch_durs, branch_offsets\n",
      "\n",
      "br_durations, br_offsets = get_branches()\n",
      "\n",
      "A_duties = bpf.multi(\n",
      "    0, 1, \"expon(1.5)\",\n",
      "    0.35, 0.68,\n",
      "    0.39, 0.68, \n",
      "    0.40, 0.92, \n",
      "    0.68, 0.59, \"halfcos(2)\",\n",
      "    0.91, 0.1, \"linear\",\n",
      "    1, 0.05\n",
      ").fit_between(0, total_duration).map(len(br_durations))\n",
      "A_duties = combinatorics.unsortx(A_duties, 0.2, margin=(6, 1), numiterations=50)\n",
      "\n",
      "pyplot.bar(br_offsets, br_durations, width=br_durations)\n",
      "pyplot.bar(br_offsets, br_durations*A_duties, width=br_durations, color=\"red\")\n",
      "branchdur_curve.plot()\n",
      "\n",
      "reload(coll)\n",
      "branches0 = coll.RecordList(zip(br_durations, br_offsets, A_duties, br_durations*A_duties, br_durations*(1-A_duties)), \n",
      "                      fields=\"durs offset Aduty Adur Bdur\", itemname=\"branch\", reprfuncs={'*': \"%6.2f\"})\n",
      "branches0"
     ],
     "language": "python",
     "metadata": {},
     "outputs": [
      {
       "metadata": {},
       "output_type": "pyout",
       "prompt_number": 249,
       "text": [
        "branchs\n",
        "\n",
        "      durs        offset      Aduty       Adur        Bdur      \n",
        "----------------------------------------------------------------\n",
        "0      49.29        0.00        1.00       49.29        0.00    \n",
        "1      49.69       49.29        0.97       48.37        1.32    \n",
        "2      54.10       98.98        0.92       50.03        4.07    \n",
        "3      69.98      153.08        0.86       60.31        9.67    \n",
        "4     101.87      223.06        0.79       80.19       21.68    \n",
        "5     102.40      324.93        0.70       71.94       30.45    \n",
        "6      28.01      427.32        0.92       25.77        2.24    \n",
        "7      23.70      455.34        0.88       20.89        2.80    \n",
        "8      23.25      479.04        0.72       16.76        6.49    \n",
        "9      23.25      502.29        0.81       18.87        4.38    \n",
        "10     23.82      525.54        0.59       13.97        9.85    \n",
        "11     25.77      549.36        0.61       15.80        9.97    \n",
        "12     29.44      575.13        0.51       14.89       14.55    \n",
        "13     35.63      604.57        0.23        8.12       27.51    \n",
        "14     45.96      640.20        0.09        4.00       41.96    \n",
        "15     63.88      686.17        0.05        3.19       60.68    "
       ]
      },
      {
       "metadata": {},
       "output_type": "display_data",
       "png": "[encoded data removed]",
       "text": [
        "<matplotlib.figure.Figure at 0xd4e9690>"
       ]
      }
     ],
     "prompt_number": 249
    },
    {
     "cell_type": "code",
     "collapsed": false,
     "input": [
      "def numit_max(dur, numits, kind):\n",
      "    it_mindur = Dur(3,8)\n",
      "    numits_max = max(1, int(dur / float(it_mindur)))\n",
      "    numits = min(numits, numits_max)\n",
      "    return numits\n",
      "\n",
      "def get_numits(curve, branches, kind, rnd, margin=(1,1), pointfunc=None, timeout=20, unsort_iterations=200):\n",
      "    maxit = int(curve.maxvalue()+0.5)\n",
      "    results = []\n",
      "    if pointfunc is None:\n",
      "        maxiterations = 1\n",
      "        pointfunc = lambda x:0\n",
      "    else:\n",
      "        maxiterations = 999999\n",
      "    import time\n",
      "    t0 = now = time.time()\n",
      "    i = 0\n",
      "    while True:\n",
      "        if i > maxiterations:\n",
      "            break\n",
      "        its = curve.map(branches.get_column(\"offset\"))\n",
      "        its = [int(min(lib.rndround(it), maxit)) for it in its]\n",
      "        its = list(combinatorics.unsortx(its, rnd, margin=margin, numiterations=unsort_iterations))\n",
      "        points = pointfunc(its)\n",
      "        if points is not None:\n",
      "            results.append((points, its))\n",
      "        i+=1\n",
      "        now0 = now\n",
      "        now = time.time()\n",
      "        if (now0 % 1 > now % 1):\n",
      "            print int(now - t0), i\n",
      "        if (now - t0) > timeout:\n",
      "            break    \n",
      "    if not results:\n",
      "        return None\n",
      "    results.sort()\n",
      "    points, result = results[-1]\n",
      "    print result, points\n",
      "    result2 = []\n",
      "    durs = branches.get_column(kind+\"dur\")\n",
      "    for dur, numit in zip(durs, result):\n",
      "        numit = numit_max(dur, numit, kind)\n",
      "        result2.append(numit)\n",
      "    print \"original result\", result\n",
      "    print \"adapted to duration\", result2\n",
      "    return result2\n"
     ],
     "language": "python",
     "metadata": {},
     "outputs": [],
     "prompt_number": 443
    },
    {
     "cell_type": "markdown",
     "metadata": {},
     "source": [
      "## A/B Number of Iterations"
     ]
    },
    {
     "cell_type": "code",
     "collapsed": false,
     "input": [
      "A_numiterations_curve = bpf.halfcos(\n",
      "    0,    3.5,\n",
      "    0.40, 4.4,\n",
      "    0.68, 2.9,\n",
      "    0.88, 4.9,\n",
      "    1, 5,\n",
      "    exp=1.5\n",
      ").fit_between(0, total_duration)\n",
      "\n",
      "def a_func(its):\n",
      "    from collections import Counter\n",
      "    C = Counter(its)\n",
      "    points = 0\n",
      "    minpoints = -4000\n",
      "    points += 1000 * (its[0]==its[1]!=its[2])\n",
      "    if not (C[2] == 2): # and C[5] == 2):\n",
      "        return None\n",
      "    #if not its[0] == 3 and its[1] == 3:\n",
      "    #    return None\n",
      "    for a, b in iterlib.window(its, 2):\n",
      "        points -= 2000 * (abs(b-a)>2)\n",
      "        points -= 1000 * (a==b==2)\n",
      "        points -= 4000 * (a==b==5)\n",
      "        if points < minpoints: return None\n",
      "    for a, b, c, d, e in iterlib.window(its, 5):\n",
      "        # XXXYY / XXYYY\n",
      "        points -= 100 * (a==b==c and d==e and a!=d)\n",
      "        points -= 100 * (a==b and d==e==d and a!=d)\n",
      "        # XYXYX\n",
      "        points -= 500 * (a==c==e and b==d and a!=b)\n",
      "        if points < minpoints: return None\n",
      "    for a, b, c, d in iterlib.window(its, 4):\n",
      "        #XXXX\n",
      "        points -= 600 * (a==b==c)\n",
      "        points -= 5000 * (a==b==c==d)\n",
      "        points -= 5000 * (a>b>c and a<=d)\n",
      "        points -= 2000 * (a==b==2)\n",
      "        points -= 5000 * (abs(a-b)>1 and abs(b-c)>1)\n",
      "        if points < minpoints: return None\n",
      "    for a, b, c, d, e, f in iterlib.window(its, 6):\n",
      "        points -= 200 * (a==b==e==f and c==d and a!=c)\n",
      "        # XXYXXY\n",
      "        points -= 2000 * (a==b==d==e and c==f and a!=c)\n",
      "        if points < minpoints: return None\n",
      "    for w1, w2, w3, w4, w5, w6, w7 in iterlib.window(its, 7):\n",
      "        points -= 500 * (w1==w1==w3==w5==w6==w7)\n",
      "    if points < minpoints: return None\n",
      "    return points\n",
      "\n",
      "A_numits = get_numits(A_numiterations_curve, branches0, \"A\", 0.3, pointfunc=a_func, margin=(2, 2), timeout=18, unsort_iterations=20)\n",
      "#A_numits = [3, 3, 4, 4, 3, 4, 4, 2, 3, 3, 3, 2, 3, 5, 4, 5]\n",
      "A_numits"
     ],
     "language": "python",
     "metadata": {},
     "outputs": [
      {
       "output_type": "stream",
       "stream": "stdout",
       "text": [
        "0 76\n",
        "1"
       ]
      },
      {
       "output_type": "stream",
       "stream": "stdout",
       "text": [
        " 189\n",
        "2"
       ]
      },
      {
       "output_type": "stream",
       "stream": "stdout",
       "text": [
        " 299\n",
        "3"
       ]
      },
      {
       "output_type": "stream",
       "stream": "stdout",
       "text": [
        " 409\n",
        "4"
       ]
      },
      {
       "output_type": "stream",
       "stream": "stdout",
       "text": [
        " 519\n",
        "5"
       ]
      },
      {
       "output_type": "stream",
       "stream": "stdout",
       "text": [
        " 629\n",
        "6"
       ]
      },
      {
       "output_type": "stream",
       "stream": "stdout",
       "text": [
        " 739\n",
        "7"
       ]
      },
      {
       "output_type": "stream",
       "stream": "stdout",
       "text": [
        " 849\n",
        "8"
       ]
      },
      {
       "output_type": "stream",
       "stream": "stdout",
       "text": [
        " 959\n",
        "9"
       ]
      },
      {
       "output_type": "stream",
       "stream": "stdout",
       "text": [
        " 1069\n",
        "10"
       ]
      },
      {
       "output_type": "stream",
       "stream": "stdout",
       "text": [
        " 1179\n",
        "11"
       ]
      },
      {
       "output_type": "stream",
       "stream": "stdout",
       "text": [
        " 1289\n",
        "12"
       ]
      },
      {
       "output_type": "stream",
       "stream": "stdout",
       "text": [
        " 1399\n",
        "13"
       ]
      },
      {
       "output_type": "stream",
       "stream": "stdout",
       "text": [
        " 1503\n",
        "14"
       ]
      },
      {
       "output_type": "stream",
       "stream": "stdout",
       "text": [
        " 1608\n",
        "15"
       ]
      },
      {
       "output_type": "stream",
       "stream": "stdout",
       "text": [
        " 1718\n",
        "16"
       ]
      },
      {
       "output_type": "stream",
       "stream": "stdout",
       "text": [
        " 1825\n",
        "17"
       ]
      },
      {
       "output_type": "stream",
       "stream": "stdout",
       "text": [
        " 1929\n",
        "[4, 4, 4, 3, 4, 5, 3, 4, 2, 3, 2, 3, 4, 4, 4, 5]"
       ]
      },
      {
       "output_type": "stream",
       "stream": "stdout",
       "text": [
        " -1200\n",
        "original result [4, 4, 4, 3, 4, 5, 3, 4, 2, 3, 2, 3, 4, 4, 4, 5]\n",
        "adapted to duration [4, 4, 4, 3, 4, 5, 3, 4, 2, 3, 2, 3, 4, 4, 2, 2]\n"
       ]
      },
      {
       "metadata": {},
       "output_type": "pyout",
       "prompt_number": 444,
       "text": [
        "[4, 4, 4, 3, 4, 5, 3, 4, 2, 3, 2, 3, 4, 4, 2, 2]"
       ]
      }
     ],
     "prompt_number": 444
    },
    {
     "cell_type": "code",
     "collapsed": false,
     "input": [
      "B_numiterations_curve = bpf.halfcos(\n",
      "    0,    2,\n",
      "    1, 4.5,\n",
      "    exp=1.5\n",
      ").fit_between(0, total_duration)\n",
      "\n",
      "from collections import Counter\n",
      "def b_func(its):\n",
      "    C = Counter(its)\n",
      "    points = 0\n",
      "    minpoints = -4000\n",
      "    points += 1000 * (its[0]==its[1]!=its[2])\n",
      "    #if not (C[5] == 1): # and C[5] == 2):\n",
      "    #    return\n",
      "    for a, b in iterlib.window(its, 2):\n",
      "        points -= 2000 * (abs(b-a)>2)\n",
      "        #points -= 1000 * (a==b==2)\n",
      "        #points -= 4000 * (a==b==5)\n",
      "        if points < minpoints: return None\n",
      "    for a, b, c, d, e in iterlib.window(its, 5):\n",
      "        # XXXYY / XXYYY\n",
      "        points -= 100 * (a==b==c and d==e and a!=d)\n",
      "        points -= 100 * (a==b and d==e==d and a!=d)\n",
      "        # XYXYX\n",
      "        points -= 500 * (a==c==e and b==d and a!=b)\n",
      "        if points < minpoints: return \n",
      "    for a, b, c, d in iterlib.window(its, 4):\n",
      "        #XXXX\n",
      "        points -= 600 * (a==b==c)\n",
      "        points -= 5000 * (a==b==c==d)\n",
      "        points -= 5000 * (a>b>c and a<=d)\n",
      "        points -= 2000 * (a==b==2)\n",
      "        points -= 5000 * (abs(a-b)>1 and abs(b-c)>1)\n",
      "        if points < minpoints: return \n",
      "    for a, b, c, d, e, f in iterlib.window(its, 6):\n",
      "        points -= 200 * (a==b==e==f and c==d and a!=c)\n",
      "        # XXYXXY\n",
      "        points -= 2000 * (a==b==d==e and c==f and a!=c)\n",
      "        if points < minpoints: return \n",
      "    for w1, w2, w3, w4, w5, w6, w7 in iterlib.window(its, 7):\n",
      "        points -= 500 * (w1==w1==w3==w5==w6==w7)\n",
      "    if points < minpoints: return \n",
      "    return points\n",
      "\n",
      "B_numits = get_numits(B_numiterations_curve, branches0, \"B\", 0.3, pointfunc=b_func, timeout=10, unsort_iterations=50)\n",
      "# B_numits = [2, 2, 3, 3, 2, 3, 2, 4, 3, 3, 4, 3, 4, 4, 5, 4]\n",
      "B_numits"
     ],
     "language": "python",
     "metadata": {},
     "outputs": [
      {
       "output_type": "stream",
       "stream": "stdout",
       "text": [
        "0 17\n",
        "1"
       ]
      },
      {
       "output_type": "stream",
       "stream": "stdout",
       "text": [
        " 56\n",
        "2"
       ]
      },
      {
       "output_type": "stream",
       "stream": "stdout",
       "text": [
        " 94\n",
        "3"
       ]
      },
      {
       "output_type": "stream",
       "stream": "stdout",
       "text": [
        " 137\n",
        "4"
       ]
      },
      {
       "output_type": "stream",
       "stream": "stdout",
       "text": [
        " 180\n",
        "5"
       ]
      },
      {
       "output_type": "stream",
       "stream": "stdout",
       "text": [
        " 222\n",
        "6"
       ]
      },
      {
       "output_type": "stream",
       "stream": "stdout",
       "text": [
        " 265\n",
        "7"
       ]
      },
      {
       "output_type": "stream",
       "stream": "stdout",
       "text": [
        " 308\n",
        "8"
       ]
      },
      {
       "output_type": "stream",
       "stream": "stdout",
       "text": [
        " 350\n",
        "9"
       ]
      },
      {
       "output_type": "stream",
       "stream": "stdout",
       "text": [
        " 393\n",
        "[2, 2, 3, 2, 3, 2, 3, 4, 4, 3, 4, 3, 5, 4, 5, 5]"
       ]
      },
      {
       "output_type": "stream",
       "stream": "stdout",
       "text": [
        " -2000\n",
        "original result [2, 2, 3, 2, 3, 2, 3, 4, 4, 3, 4, 3, 5, 4, 5, 5]\n",
        "adapted to duration [1, 1, 2, 2, 3, 2, 1, 1, 4, 2, 4, 3, 5, 4, 5, 5]\n"
       ]
      },
      {
       "metadata": {},
       "output_type": "pyout",
       "prompt_number": 445,
       "text": [
        "[1, 1, 2, 2, 3, 2, 1, 1, 4, 2, 4, 3, 5, 4, 5, 5]"
       ]
      }
     ],
     "prompt_number": 445
    },
    {
     "cell_type": "markdown",
     "metadata": {},
     "source": [
      "# Juntar todas las columnas "
     ]
    },
    {
     "cell_type": "code",
     "collapsed": false,
     "input": [
      "branches = branches0.add_column(\"A_numits\", A_numits, reprfunc=\"%2d\").add_column(\"B_numits\", B_numits, reprfunc=\"%2d\")\n",
      "print \"total dur\", sum(branches.get_column(\"durs\"))\n",
      "branches"
     ],
     "language": "python",
     "metadata": {},
     "outputs": [
      {
       "output_type": "stream",
       "stream": "stdout",
       "text": [
        " total dur 750.041973404\n"
       ]
      },
      {
       "metadata": {},
       "output_type": "pyout",
       "prompt_number": 626,
       "text": [
        "branchs\n",
        "\n",
        "      durs        offset      Aduty       Adur        Bdur        A_numits    B_numits  \n",
        "----------------------------------------------------------------------------------------\n",
        "0      49.29        0.00        1.00       49.29        0.00       4           1        \n",
        "1      49.69       49.29        0.97       48.37        1.32       4           1        \n",
        "2      54.10       98.98        0.92       50.03        4.07       4           2        \n",
        "3      69.98      153.08        0.86       60.31        9.67       3           2        \n",
        "4     101.87      223.06        0.79       80.19       21.68       4           3        \n",
        "5     102.40      324.93        0.70       71.94       30.45       5           2        \n",
        "6      28.01      427.32        0.92       25.77        2.24       3           1        \n",
        "7      23.70      455.34        0.88       20.89        2.80       4           1        \n",
        "8      23.25      479.04        0.72       16.76        6.49       2           4        \n",
        "9      23.25      502.29        0.81       18.87        4.38       3           2        \n",
        "10     23.82      525.54        0.59       13.97        9.85       2           4        \n",
        "11     25.77      549.36        0.61       15.80        9.97       3           3        \n",
        "12     29.44      575.13        0.51       14.89       14.55       4           5        \n",
        "13     35.63      604.57        0.23        8.12       27.51       4           4        \n",
        "14     45.96      640.20        0.09        4.00       41.96       2           5        \n",
        "15     63.88      686.17        0.05        3.19       60.68       2           5        "
       ]
      }
     ],
     "prompt_number": 626
    },
    {
     "cell_type": "markdown",
     "metadata": {},
     "source": [
      "## Save Branches to CSV"
     ]
    },
    {
     "cell_type": "code",
     "collapsed": false,
     "input": [
      "branches.to_csv(\"branches.csv\")"
     ],
     "language": "python",
     "metadata": {},
     "outputs": []
    },
    {
     "cell_type": "markdown",
     "metadata": {},
     "source": [
      "## Interleave A/B"
     ]
    },
    {
     "cell_type": "code",
     "collapsed": false,
     "input": [
      "def node_pulse_series(numnodes, pulsecurve, rndm, possible_values, margin=(1, 1)):\n",
      "    \"\"\"\n",
      "    rndm: 0-1, 0 means total order\n",
      "    pulsecurve: a bpf defined between x:0-1 y:minpulses-maxpulses\n",
      "    possible_values: a list of possible values to take from\n",
      "    \"\"\"\n",
      "    assert numnodes > 0\n",
      "    durs = pulsecurve.map(numnodes)\n",
      "    durs = [lib.nearest_element(dur, possible_values) for dur in durs]\n",
      "    durs = combinatorics.unsortx(durs, rndm, margin=margin)\n",
      "    assert len(durs) == numnodes\n",
      "    return durs\n",
      "\n",
      "def get_possible_values(s):\n",
      "    possible_durs = [Dur(*map(int, d.split(\"/\"))) for d in s.split()]\n",
      "    possible_pulses = [n.dur for n in possible_durs]\n",
      "    return possible_durs, possible_pulses\n",
      "\n",
      "A_node_possible_durs, A_node_possible_values = get_possible_values(\"1/8 3/16 2/8 3/8 4/8 5/8 3/4 7/8 4/4 9/8 5/4 6/4 7/4\")\n",
      "B_node_possible_durs, B_node_possible_values = get_possible_values(\"1/8 3/16 2/8 5/16 3/8 4/8 5/8 3/4 7/8 4/4 9/8 5/4 6/4 7/4\")\n"
     ],
     "language": "python",
     "metadata": {},
     "outputs": [],
     "prompt_number": 522
    },
    {
     "cell_type": "code",
     "collapsed": false,
     "input": [
      "def branch_get_possible_configurations(numit, nodes_per_it_min, nodes_per_it_max, offsets):\n",
      "    assert len(offsets) == numit - 1\n",
      "    solutions = []\n",
      "    for nodes in combinatorics.all_combinations_with_repetition(range(nodes_per_it_min, nodes_per_it_max+1), numit):\n",
      "        if all(n1+offset > n0 for offset, (n0, n1) in zip(offsets, iterlib.pairwise(nodes))):\n",
      "            solutions.append(nodes)\n",
      "    return solutions\n",
      "\n",
      "def branch_expand(pulseseries, nodes_per_it, offsets):\n",
      "    \"\"\"\n",
      "    returns a nested list of indices to pulseseries and its expansion\n",
      "    \n",
      "    >>> indices, pulses = branch_expand(range(6, 12), [3, 4, 5], [1, 2])\n",
      "    >>> indices\n",
      "    [[0, 1, 2], [1, 2, 3, 4], [3, 4, 5]]\n",
      "    >>> pulses\n",
      "    [[6, 7, 8], [7, 8, 9, 10], [9, 10, 11]]\n",
      "    \"\"\"\n",
      "    its = []\n",
      "    now = 0\n",
      "    indices = range(len(pulseseries))\n",
      "    offsets = [0] + offsets\n",
      "    for offset, numnodes in zip(offsets, nodes_per_it):\n",
      "        now += offset\n",
      "        its.append(indices[now:now+numnodes])\n",
      "    #expanded = [pulseseries[i] for indices in its for i in indices]\n",
      "    expanded = [[pulseseries[i] for i in indices] for indices in its]\n",
      "    assert its[-1][-1] == indices[-1]\n",
      "    assert expanded[-1][-1] == pulseseries[-1]\n",
      "    if len(offsets) > 1:\n",
      "        assert its[0][0] == 0 and its[1][0] == offsets[1]\n",
      "    assert expanded[0][0] == pulseseries[0]\n",
      "    return its, expanded"
     ],
     "language": "python",
     "metadata": {},
     "outputs": [],
     "prompt_number": 448
    },
    {
     "cell_type": "code",
     "collapsed": false,
     "input": [
      "def get_num_unique_nodes(nodes_per_it, offsets):\n",
      "    assert len(offsets) == len(nodes_per_it) - 1\n",
      "    u = nodes_per_it[0]\n",
      "    for offset, (n0, n1) in zip(offsets, iterlib.pairwise(nodes_per_it)):\n",
      "        u += n1 - n0 + offset\n",
      "    return u\n"
     ],
     "language": "python",
     "metadata": {},
     "outputs": [],
     "prompt_number": 449
    },
    {
     "cell_type": "code",
     "collapsed": false,
     "input": [
      "def parse_durations(s):\n",
      "    if isinstance(s, str):\n",
      "        possible_durs = [Dur(*map(int, d.split(\"/\"))) for d in s.split()]\n",
      "    else:\n",
      "        possible_durs = map(Dur, s)\n",
      "    return possible_durs\n",
      "\n",
      "class Stream:\n",
      "    registry = {}\n",
      "    def __init__(self, id, node_possible_values):\n",
      "        \"\"\"\n",
      "        node_possible_values: a seq of possible durations (in pulses), or a string of the form \"3/8 5/8 3/4 ...\"\n",
      "        \"\"\"\n",
      "        self.id = id\n",
      "        self.__class__.registry[id] = self\n",
      "        self.node_possible_durs = parse_durations(node_possible_values) \n",
      "        self.node_possible_values = [n.dur for n in self.node_possible_durs]"
     ],
     "language": "python",
     "metadata": {},
     "outputs": [],
     "prompt_number": 450
    },
    {
     "cell_type": "code",
     "collapsed": false,
     "input": [
      "def _parse_offsets(offsets, numit):\n",
      "    if isinstance(offsets, (list, tuple)):\n",
      "        return offsets\n",
      "    elif callable(offsets):\n",
      "        print \"----->\", offsets\n",
      "        return [int(n) for n in offsets.map(numit-1)]\n",
      "    else:\n",
      "        return [offsets]*(numit-1)\n",
      "\n",
      "class SubBranch:\n",
      "    def __init__(self, kind, index, \n",
      "                 nodedur_minmax, nodedurcurve,\n",
      "                 numnodes_minmax, \n",
      "                 rnd=0.3, offsets=1,\n",
      "                 pointfunc=None, prefixed_nodes=None, timeout=20, force_iterations=None, force_numit=None):\n",
      "        \"\"\"\n",
      "        kind: A, B, etc  \n",
      "        index: which branch is this\n",
      "        offsets: the offset between each iteration\n",
      "        pulsecurve: a bpf between x:0-1, y:pulsemin, pulsemax\n",
      "        numnodes_min: the min. num. of nodes in an iteration\n",
      "        numnodes_max: the max. %\n",
      "        rnd: randomize the pulse-series\n",
      "        \"\"\"\n",
      "        self.branch = branches[index]\n",
      "        S = Stream.registry[kind]\n",
      "        self.poss_durs = S.node_possible_durs\n",
      "        self.poss_values = S.node_possible_values\n",
      "        \n",
      "        if kind == 'A':\n",
      "            dur, numit = self.branch.Adur, self.branch.A_numits\n",
      "        elif kind == 'B':\n",
      "            dur, numit = self.branch.Bdur, self.branch.B_numits\n",
      "        self.numit = force_numit or numit\n",
      "        \n",
      "        nodedur_min, nodedur_max = nodedur_minmax\n",
      "        self.numnodes_min, self.numnodes_max = numnodes_minmax\n",
      "        nodedur_maxposs = dur / (numit * self.numnodes_min)\n",
      "        print \"maximum node duration: \", nodedur_maxposs\n",
      "        nodedur_maxposs = timing.find_nearest_duration(nodedur_maxposs, self.poss_durs, \"<\")\n",
      "        print \"maximum node duration: \", nodedur_maxposs\n",
      "        if float(nodedur_max) > float(nodedur_maxposs):\n",
      "            print \"warning: el nodo de mayor duracion fue cambiado de {nodedur_max} a {nodedur_maxposs}\".format(**locals())\n",
      "            nodedur_max = nodedur_maxposs\n",
      "        pulsecurve = nodedurcurve * (nodedur_max - nodedur_min) + nodedur_min\n",
      "        self.kind = kind\n",
      "        self.index = index\n",
      "        self.totaldur = dur \n",
      "        self.pulsecurve = pulsecurve\n",
      "        self.offsets = _parse_offsets(offsets, self.numit)\n",
      "        self.rnd = rnd\n",
      "        \n",
      "        def default_pointfunc(nodedurs, *_):\n",
      "            p = 0\n",
      "            p += 100* (nodedurs[0][0] != nodedurs[0][1] if len(nodedurs[0]) > 1 else 0)\n",
      "            return p\n",
      "\n",
      "        pointfunc = pointfunc or default_pointfunc\n",
      "        self.pointfuncs = [pointfunc]\n",
      "        self.prefixed_nodes = prefixed_nodes or []\n",
      "        self.timeout = 20\n",
      "        self.nodeseq_info = self.calculate_nodeseq(force_iterations)   # <-------------------\n",
      "        self.nodedurs = self.nodeseq_info.nodedurs\n",
      "        \n",
      "    @lib.returns_tuple(\"nodes_per_it pulseseries nodedurs dursecs\")\n",
      "    def calculate_nodeseq(self, force_iterations=None):\n",
      "        P = []\n",
      "        offsets = self.offsets\n",
      "        totaldur = self.totaldur\n",
      "        if force_iterations is None:\n",
      "            possible_configurations = branch_get_possible_configurations(self.numit, self.numnodes_min, self.numnodes_max, offsets)\n",
      "        else:\n",
      "            possible_configurations = [force_iterations]\n",
      "        timeout_per_iteration = self.timeout / len(possible_configurations)\n",
      "        for nodes_per_it in possible_configurations:\n",
      "            if any(abs(a - b) > 2 for a, b in iterlib.window(nodes_per_it, 2)):\n",
      "                continue\n",
      "            num_nodes = sum(nodes_per_it)\n",
      "            _num_unique_nodes = get_num_unique_nodes(nodes_per_it, offsets)\n",
      "            num_unique_nodes = _num_unique_nodes - len(self.prefixed_nodes)\n",
      "            t0 = time.time()\n",
      "            conf_points = float(\"-inf\")\n",
      "            i = 0\n",
      "            row = []\n",
      "            while True:\n",
      "                pulseseries = node_pulse_series(num_unique_nodes, pulsecurve=self.pulsecurve, rndm=self.rnd, \n",
      "                                                possible_values=self.poss_values)\n",
      "                pulseseries = self.prefixed_nodes + list(pulseseries)\n",
      "                nodeindices, nodedurs = branch_expand(pulseseries, nodes_per_it, offsets)\n",
      "                dursecs = sum(iterlib.flatten(nodedurs)) * (60/globaltempo)\n",
      "                diff = abs(totaldur - dursecs)\n",
      "                extrapoints = 0\n",
      "                for func in self.pointfuncs:\n",
      "                    extrapoints += func(nodedurs, dursecs, diff)\n",
      "                # points: cuanto max grande, mejor\n",
      "                points = (1000 - diff) + extrapoints\n",
      "                if points > conf_points:\n",
      "                    conf_points = points\n",
      "                row.append([points, diff, num_unique_nodes, nodedurs, nodes_per_it])\n",
      "                now = time.time()\n",
      "                if now - t0 > timeout_per_iteration:\n",
      "                    break\n",
      "                if i > 40 and conf_points < -99999:\n",
      "                    break\n",
      "                i += 1\n",
      "            P.extend(row)\n",
      "            if i > 50:\n",
      "                print \"Best points for %s is %d. Iterations: %d\" % (str(nodes_per_it), int(conf_points), i)\n",
      "        if not P:\n",
      "            raise ValueError(\"No solutions were found!\")\n",
      "            \n",
      "        P.sort(key=lambda x:x[0])\n",
      "        points, diff, unique_nodes, nodedurs, nodes_per_it = P[-1]\n",
      "        if diff/totaldur > 0.1:\n",
      "            print \"warning: the best solution differs from the desired duration in {percent}%\".format(percent=round(diff/self.totaldur*100))\n",
      "        dursecs = sum(iterlib.flatten(nodedurs))*(60/globaltempo)\n",
      "        print \">>>> points: \", points\n",
      "        return nodes_per_it, pulseseries, nodedurs, dursecs"
     ],
     "language": "python",
     "metadata": {},
     "outputs": [],
     "prompt_number": 639
    },
    {
     "cell_type": "code",
     "collapsed": false,
     "input": [
      "A = Stream(\"A\", \"1/8 3/16 2/8 3/8 4/8 5/8 3/4 7/8 4/4 9/8 5/4 6/4 7/4\")\n",
      "B = Stream(\"B\", \"1/8 3/16 2/8 5/16 3/8 4/8 5/8 3/4 7/8 4/4 9/8 5/4 6/4 7/4\")"
     ],
     "language": "python",
     "metadata": {},
     "outputs": [],
     "prompt_number": 451
    },
    {
     "cell_type": "code",
     "collapsed": false,
     "input": [
      "reload(distribute)\n",
      "interleave_weights = bpf.multi(\n",
      "    0, 0,\n",
      "    1, 0.5\n",
      ").fit_between(0, total_duration).map(len(branches))\n",
      "def interleave_string(branches, interleave_values):\n",
      "    As = [list(\"A\" * numit) for numit in branches.get_column('A_numits')]\n",
      "    Bs = [list(\"B\" * numit) for numit in branches.get_column('B_numits')]\n",
      "    Ds = [\"\".join(distribute.interleave(A, B, w)) for A, B, w in zip(As, Bs, interleave_weights)]\n",
      "    return Ds\n",
      "\n",
      "interleave_string(branches, interleave_values)                          "
     ],
     "language": "python",
     "metadata": {},
     "outputs": [
      {
       "metadata": {},
       "output_type": "pyout",
       "prompt_number": 452,
       "text": [
        "['AAAAB',\n",
        " 'AAAAB',\n",
        " 'AAABAB',\n",
        " 'AABAB',\n",
        " 'AAABABB',\n",
        " 'AAAABAB',\n",
        " 'AAAB',\n",
        " 'AAAAB',\n",
        " 'ABABBB',\n",
        " 'AABAB',\n",
        " 'ABABBB',\n",
        " 'ABAABB',\n",
        " 'ABABAABBB',\n",
        " 'ABABAABB',\n",
        " 'BABBABB',\n",
        " 'BBABBBA']"
       ]
      }
     ],
     "prompt_number": 452
    },
    {
     "cell_type": "markdown",
     "metadata": {},
     "source": [
      "# Branch 0\n"
     ]
    },
    {
     "cell_type": "code",
     "collapsed": false,
     "input": [
      "A_subbranches = {}\n",
      "B_subbranches = {}\n",
      "subbranches = {'A':A_subbranches, 'B':B_subbranches}"
     ],
     "language": "python",
     "metadata": {},
     "outputs": [],
     "prompt_number": 363
    },
    {
     "cell_type": "code",
     "collapsed": false,
     "input": [
      "def func(nodedurs, dursecs, diff):\n",
      "    p = 0\n",
      "    p += 100 * (nodedurs[0][0] != nodedurs[0][1])\n",
      "    p += 200 * (len(nodedurs[-1]) > len(nodedurs[0]))\n",
      "    p += 100 * (nodedurs[-1] != sorted(nodedurs[-1]))\n",
      "    p += 10 * sum(int(is_sorted(it)) for it in nodedurs)\n",
      "    p -= 1000 * (diff/dursecs)\n",
      "    #p += 500 * (nodedurs[-1][0] - nodedurs[0][0] >= 0.5)\n",
      "    return p\n",
      "A_subbranches[0] = SubBranch(\"A\", 0, offsets=[1, 1], \n",
      "                           nodedurcurve=bpf.linear(0, 0, 1, 1), \n",
      "                           nodedur_minmax=(D(5,8), D(9,8)),\n",
      "                           numnodes_minmax=(3,4), rnd=0.4, pointfunc=func, prefixed_nodes=[])\n",
      "A_subbranches[0].nodedurs"
     ],
     "language": "python",
     "metadata": {},
     "outputs": [
      {
       "output_type": "stream",
       "stream": "stdout",
       "text": [
        "(3, 3, 3)\n",
        "(3, 3, 4)"
       ]
      },
      {
       "output_type": "stream",
       "stream": "stdout",
       "text": [
        "\n",
        "(3, 4, 4)"
       ]
      },
      {
       "output_type": "stream",
       "stream": "stdout",
       "text": [
        "\n",
        "(4, 4, 4)"
       ]
      },
      {
       "output_type": "stream",
       "stream": "stdout",
       "text": [
        "\n"
       ]
      },
      {
       "metadata": {},
       "output_type": "pyout",
       "prompt_number": 347,
       "text": [
        "[[2.5, 3.5, 3.5], [3.5, 3.5, 3.0], [3.5, 3.0, 4.0, 4.5]]"
       ]
      }
     ],
     "prompt_number": 347
    },
    {
     "cell_type": "markdown",
     "metadata": {},
     "source": [
      "# Branch 1\n"
     ]
    },
    {
     "cell_type": "code",
     "collapsed": true,
     "input": [
      "def func(nodedurs, dursecs, diff):\n",
      "    p  = 100 * (nodedurs[0][0] != nodedurs[0][1])\n",
      "    p += 200 * (len(nodedurs[-1]) > len(nodedurs[0]))\n",
      "    p += 100 * (nodedurs[-1] != sorted(nodedurs[-1]))\n",
      "    p += 10 * sum(int(is_sorted(it)) for it in nodedurs)\n",
      "    p -= 5000 * (diff/dursecs)\n",
      "    return p\n",
      "A_subbranches[1] = SubBranch(\"A\", 1, offsets=1,\n",
      "               nodedurcurve=bpf.linear(0, 0, 1, 1), \n",
      "               nodedur_minmax=(D(3,4), D(9,8)),\n",
      "               numnodes_minmax=(2,6), rnd=0.4, pointfunc=func, prefixed_nodes=[2.5])\n",
      "A_subbranches[1].nodedurs"
     ],
     "language": "python",
     "metadata": {},
     "outputs": [
      {
       "output_type": "stream",
       "stream": "stdout",
       "text": [
        "(2, 2, 2) "
       ]
      },
      {
       "output_type": "stream",
       "stream": "stdout",
       "text": [
        "(2, 2, 3) "
       ]
      },
      {
       "output_type": "stream",
       "stream": "stdout",
       "text": [
        "(2, 2, 4) "
       ]
      },
      {
       "output_type": "stream",
       "stream": "stdout",
       "text": [
        "(2, 2, 5) (2, 2, 6) (2, 3, 3) "
       ]
      },
      {
       "output_type": "stream",
       "stream": "stdout",
       "text": [
        "(2, 3, 4) "
       ]
      },
      {
       "output_type": "stream",
       "stream": "stdout",
       "text": [
        "(2, 3, 5) "
       ]
      },
      {
       "output_type": "stream",
       "stream": "stdout",
       "text": [
        "(2, 3, 6) (2, 4, 4) "
       ]
      },
      {
       "output_type": "stream",
       "stream": "stdout",
       "text": [
        "(2, 4, 5) "
       ]
      },
      {
       "output_type": "stream",
       "stream": "stdout",
       "text": [
        "(2, 4, 6) "
       ]
      },
      {
       "output_type": "stream",
       "stream": "stdout",
       "text": [
        "(2, 5, 5) (2, 5, 6) (2, 6, 6) (3, 3, 3) "
       ]
      },
      {
       "output_type": "stream",
       "stream": "stdout",
       "text": [
        "(3, 3, 4) "
       ]
      },
      {
       "output_type": "stream",
       "stream": "stdout",
       "text": [
        "(3, 3, 5) "
       ]
      },
      {
       "output_type": "stream",
       "stream": "stdout",
       "text": [
        "(3, 3, 6) (3, 4, 4) "
       ]
      },
      {
       "output_type": "stream",
       "stream": "stdout",
       "text": [
        "(3, 4, 5) "
       ]
      },
      {
       "output_type": "stream",
       "stream": "stdout",
       "text": [
        "(3, 4, 6) "
       ]
      },
      {
       "output_type": "stream",
       "stream": "stdout",
       "text": [
        "(3, 5, 5) "
       ]
      },
      {
       "output_type": "stream",
       "stream": "stdout",
       "text": [
        "(3, 5, 6) "
       ]
      },
      {
       "output_type": "stream",
       "stream": "stdout",
       "text": [
        "(3, 6, 6) (4, 4, 4) "
       ]
      },
      {
       "output_type": "stream",
       "stream": "stdout",
       "text": [
        "(4, 4, 5) "
       ]
      },
      {
       "output_type": "stream",
       "stream": "stdout",
       "text": [
        "(4, 4, 6) "
       ]
      },
      {
       "output_type": "stream",
       "stream": "stdout",
       "text": [
        "(4, 5, 5) "
       ]
      },
      {
       "output_type": "stream",
       "stream": "stdout",
       "text": [
        "(4, 5, 6) "
       ]
      },
      {
       "output_type": "stream",
       "stream": "stdout",
       "text": [
        "(4, 6, 6) "
       ]
      },
      {
       "output_type": "stream",
       "stream": "stdout",
       "text": [
        "(5, 5, 5) "
       ]
      },
      {
       "output_type": "stream",
       "stream": "stdout",
       "text": [
        "(5, 5, 6) "
       ]
      },
      {
       "output_type": "stream",
       "stream": "stdout",
       "text": [
        "(5, 6, 6) "
       ]
      },
      {
       "output_type": "stream",
       "stream": "stdout",
       "text": [
        "(6, 6, 6)"
       ]
      },
      {
       "metadata": {},
       "output_type": "pyout",
       "prompt_number": 377,
       "text": [
        "[[2.5, 3.0], [3.0, 3.5, 4.0], [3.5, 4.0, 3.5, 4.5]]"
       ]
      },
      {
       "output_type": "stream",
       "stream": "stdout",
       "text": [
        "\n"
       ]
      }
     ],
     "prompt_number": 377
    },
    {
     "cell_type": "code",
     "collapsed": false,
     "input": [
      "reload(timing)\n",
      "def func(nodedurs, dursecs, diff):\n",
      "    return -5000*(diff/dursecs)\n",
      "\n",
      "B_subbranches[1] = SubBranch(\"B\", 1, offsets=1, nodedurcurve=bpf.linear(0, 0, 1, 1),\n",
      "                             nodedur_minmax=(D(1,8), D(3,8)), numnodes_minmax=(2,3), rnd=0.4, pointfunc=func, timeout=1)\n",
      "B_subbranches[1].nodedurs"
     ],
     "language": "python",
     "metadata": {},
     "outputs": [
      {
       "output_type": "stream",
       "stream": "stdout",
       "text": [
        "maximum node duration:  0.660936361855\n",
        "maximum node duration:  7\n",
        "warning: el nodo de mayor duracion fue cambiado a 7\n",
        "(2,) num_unique_nodes 2\n",
        "(3,)"
       ]
      },
      {
       "output_type": "stream",
       "stream": "stdout",
       "text": [
        " num_unique_nodes 3\n",
        "warning: the best solution differs from the desired duration in 751.0%"
       ]
      },
      {
       "output_type": "stream",
       "stream": "stdout",
       "text": [
        "\n"
       ]
      },
      {
       "metadata": {},
       "output_type": "pyout",
       "prompt_number": 418,
       "text": [
        "[[0.5, 7.0]]"
       ]
      }
     ],
     "prompt_number": 418
    },
    {
     "cell_type": "markdown",
     "metadata": {},
     "source": [
      "# Branch 2"
     ]
    },
    {
     "cell_type": "code",
     "collapsed": false,
     "input": [
      "branch_index = 2\n",
      "diff_penalty = bpf.linear(0, 0, 0.1, 0, 0.2, -10000, 0.3, -20000, 0.4, -9999999999)\n",
      "def func(nodedurs, dursecs, diff):\n",
      "    p  = 100 * (nodedurs[0][0] != nodedurs[0][1])\n",
      "    p += diff_penalty(abs(diff)/dursecs)\n",
      "    p -= 99999 * (not any(n>=4 for n in nodedurs))\n",
      "    #p += -99999 * (sum(1 for n in nodedurs if len(n)==2) > 1)\n",
      "    p += 20000 * any(len(n) == 4 for n in nodedurs)\n",
      "    p -= 99999 * any(abs(len(n0) - len(n1)) > 1 for n0, n1 in iterlib.window(nodedurs, 2))\n",
      "    p -= 99999 * (max(nodedurs[0]) - min(nodedurs[0]) > 1.5)\n",
      "    p -= 2000 * sum(1 for n in nodedurs if len(set(n)) > len(n))\n",
      "    p -= 200000 * (min(nodedurs[-1]) == nodedurs[-1][-1])\n",
      "    return p\n",
      "A_subbranches[branch_index] = SubBranch(\"A\", 2,\n",
      "               nodedurcurve=bpf.linear(0, 0, 0.9, 1, 1, 0.5), \n",
      "               nodedur_minmax=(D(5,8), D(9,8)),\n",
      "               numnodes_minmax=(3,5), rnd=0.3, pointfunc=func, prefixed_nodes=[], timeout=20, \n",
      "               #force_iterations=[3, 3, 4, 3],\n",
      "               offsets=1\n",
      "            \n",
      "               )\n",
      "A_subbranches[branch_index].nodeseq_info\n"
     ],
     "language": "python",
     "metadata": {},
     "outputs": [
      {
       "output_type": "stream",
       "stream": "stdout",
       "text": [
        "maximum node duration:  4.16893193282\n",
        "maximum node duration:  7\n",
        "Best points for (3, 3, 3, 4) is 6882. Iterations: 258"
       ]
      },
      {
       "output_type": "stream",
       "stream": "stdout",
       "text": [
        "\n",
        "warning: the best solution differs from the desired duration in 32.0%"
       ]
      },
      {
       "output_type": "stream",
       "stream": "stdout",
       "text": [
        "\n",
        ">>>> points:  6882.78959805\n"
       ]
      },
      {
       "metadata": {},
       "output_type": "pyout",
       "prompt_number": 633,
       "text": [
        "calculate_nodeseq(nodes_per_it=(3, 3, 3, 4), pulseseries=[2.5, 3.0, 4.0, 3.0, 3.5, 4.0, 4.5, 3.5], nodedurs=[[2.5, 3.0, 3.5], [3.0, 3.5, 3.0], [3.5, 3.0, 4.0], [3.0, 4.0, 4.5, 3.5]], dursecs=66.0)"
       ]
      }
     ],
     "prompt_number": 633
    },
    {
     "cell_type": "code",
     "collapsed": false,
     "input": [
      "A_subbranches[2].totaldur"
     ],
     "language": "python",
     "metadata": {},
     "outputs": [
      {
       "metadata": {},
       "output_type": "pyout",
       "prompt_number": 636,
       "text": [
        "50.027183193805975"
       ]
      }
     ],
     "prompt_number": 636
    },
    {
     "cell_type": "code",
     "collapsed": false,
     "input": [
      "B_subbranches[branch_index] = SubBranch(\"B\", 2, nodedurcurve=bpf.linear(0, 0, 1, 1),\n",
      "                                        nodedur_minmax=(D(1,8), D(2,8)), numnodes_minmax=(1,2), rnd=0.3, timeout=5\n",
      "                                        )\n",
      "B_subbranches[branch_index].nodeseq_info\n"
     ],
     "language": "python",
     "metadata": {},
     "outputs": [
      {
       "output_type": "stream",
       "stream": "stdout",
       "text": [
        "maximum node duration:  2.03518373608\n",
        "maximum node duration:  7\n",
        "Best points for (1, 1) is 998. Iterations: 1474"
       ]
      },
      {
       "output_type": "stream",
       "stream": "stdout",
       "text": [
        "\n",
        "Best points for (1, 2) is 999. Iterations: 1578"
       ]
      },
      {
       "output_type": "stream",
       "stream": "stdout",
       "text": [
        "\n",
        "Best points for (2, 2) is 1099. Iterations: 1571"
       ]
      },
      {
       "output_type": "stream",
       "stream": "stdout",
       "text": [
        "\n",
        "warning: the best solution differs from the desired duration in 11.0%\n",
        ">>>> points:  1099.57036747\n"
       ]
      },
      {
       "metadata": {},
       "output_type": "pyout",
       "prompt_number": 571,
       "text": [
        "calculate_nodeseq(nodes_per_it=(2, 2), pulseseries=[0.5, 0.75, 1.0], nodedurs=[[0.5, 0.75], [0.75, 1.0]], dursecs=4.5)"
       ]
      }
     ],
     "prompt_number": 571
    },
    {
     "cell_type": "markdown",
     "metadata": {},
     "source": [
      "# Branch 3"
     ]
    },
    {
     "cell_type": "code",
     "collapsed": false,
     "input": [
      "branch_index = 3\n",
      "diff_penalty = bpf.linear(0, 0, 0.1, 0, 0.2, -10000, 0.3, -20000, 0.4, -9999999999)\n",
      "def func(nodedurs, dursecs, diff):\n",
      "    p  = 100 * (nodedurs[0][0] != nodedurs[0][1])\n",
      "    p += diff_penalty(abs(diff)/dursecs)\n",
      "    p -= 99999 * (not any(n>=4 for n in nodedurs))\n",
      "    #p += -99999 * (sum(1 for n in nodedurs if len(n)==2) > 1)\n",
      "    p += 20000 * any(len(n) == 4 for n in nodedurs)\n",
      "    p -= 99999 * any(abs(len(n0) - len(n1)) > 1 for n0, n1 in iterlib.window(nodedurs, 2))\n",
      "    p -= 99999 * (max(nodedurs[0]) - min(nodedurs[0]) > 1.5)\n",
      "    p -= 2000 * sum(1 for n in nodedurs if len(set(n)) > len(n))\n",
      "    p -= 200000 * (min(nodedurs[-1]) == nodedurs[-1][-1])\n",
      "    p -= 200000 * (max(nodedurs[-1] == nodedurs[-1][-1]))\n",
      "    p -= 200000 * (len(nodedurs[-1]) > len(nodedurs[-2]))\n",
      "    return p\n",
      "A_subbranches[branch_index] = SubBranch(\"A\", branch_index,\n",
      "               nodedurcurve=bpf.halfcos(0, 0, 0.92, 1, 1, 0.78), \n",
      "               nodedur_minmax=(D(4,8), D(4,4)),\n",
      "               numnodes_minmax=(3,5), rnd=0.35, pointfunc=func, prefixed_nodes=[], timeout=20, \n",
      "               offsets=1,\n",
      "               force_numit=4\n",
      "               )\n",
      "A_subbranches[branch_index].nodeseq_info\n"
     ],
     "language": "python",
     "metadata": {},
     "outputs": [
      {
       "output_type": "stream",
       "stream": "stdout",
       "text": [
        "maximum node duration:  6.70102305988\n",
        "maximum node duration:  7\n",
        ">>>> points: "
       ]
      },
      {
       "output_type": "stream",
       "stream": "stdout",
       "text": [
        " -178900.309208\n"
       ]
      },
      {
       "metadata": {},
       "output_type": "pyout",
       "prompt_number": 651,
       "text": [
        "calculate_nodeseq(nodes_per_it=(3, 3, 4, 4), pulseseries=[2.0, 2.0, 3.0, 2.5, 4.0, 4.0, 3.5, 3.5], nodedurs=[[2.0, 3.0, 2.0], [3.0, 2.0, 2.5], [2.0, 2.5, 3.5, 4.0], [2.5, 3.5, 4.0, 3.5]], dursecs=60.0)"
       ]
      }
     ],
     "prompt_number": 651
    },
    {
     "cell_type": "code",
     "collapsed": false,
     "input": [
      "branch_index = 3\n",
      "def func(nodedurs, dursecs, diff):\n",
      "    p = 0\n",
      "    p += diff_penalty(abs(diff)/dursecs)\n",
      "    p -= 99999 * any(abs(len(n0) - len(n1)) > 1 for n0, n1 in iterlib.window(nodedurs, 2))\n",
      "    p -= 99999 * (max(nodedurs[-1]) == nodedurs[-1][0])\n",
      "    return p\n",
      "B_subbranches[branch_index] = SubBranch(\"B\", branch_index, nodedurcurve=bpf.linear(0, 0, 0.80, 1, 1, 0.38),\n",
      "                                        nodedur_minmax=(D(1,8), D(5,16)), numnodes_minmax=(1,3), rnd=0.3, timeout=2,\n",
      "                                        force_numit=3, pointfunc=func\n",
      "                                        )\n",
      "B_subbranches[branch_index].nodeseq_info\n"
     ],
     "language": "python",
     "metadata": {},
     "outputs": [
      {
       "output_type": "stream",
       "stream": "stdout",
       "text": [
        "maximum node duration:  4.83675012991\n",
        "maximum node duration:  7\n",
        "Best points for (1, 2, 3) is -11839. Iterations: 469"
       ]
      },
      {
       "output_type": "stream",
       "stream": "stdout",
       "text": [
        "\n",
        "Best points for (1, 3, 3) is -98999. Iterations: 465"
       ]
      },
      {
       "output_type": "stream",
       "stream": "stdout",
       "text": [
        "\n",
        "Best points for (2, 2, 3) is 999. Iterations: 471"
       ]
      },
      {
       "output_type": "stream",
       "stream": "stdout",
       "text": [
        "\n",
        "Best points for (2, 3, 3) is -49. Iterations: 465"
       ]
      },
      {
       "output_type": "stream",
       "stream": "stdout",
       "text": [
        "\n",
        "Best points for (3, 3, 3) is -10833. Iterations: 465"
       ]
      },
      {
       "output_type": "stream",
       "stream": "stdout",
       "text": [
        "\n",
        ">>>> points:  999.32649974\n"
       ]
      },
      {
       "metadata": {},
       "output_type": "pyout",
       "prompt_number": 666,
       "text": [
        "calculate_nodeseq(nodes_per_it=(2, 2, 3), pulseseries=[0.5, 0.75, 1.0, 1.25, 0.75], nodedurs=[[0.5, 0.75], [0.75, 1.0], [1.0, 1.25, 0.75]], dursecs=9.0)"
       ]
      }
     ],
     "prompt_number": 666
    },
    {
     "cell_type": "markdown",
     "metadata": {},
     "source": [
      "# Branch 4"
     ]
    },
    {
     "cell_type": "code",
     "collapsed": false,
     "input": [
      "branch_index = 4\n",
      "diff_penalty = bpf.linear(0, 0, 0.1, 0, 0.2, -10000, 0.3, -20000, 0.4, -9999999999)\n",
      "def func(nodedurs, dursecs, diff):\n",
      "    p  = 100 * (nodedurs[0][0] != nodedurs[0][1])\n",
      "    p += diff_penalty(abs(diff)/dursecs)\n",
      "    p -= 99999 * (not any(n>=4 for n in nodedurs))\n",
      "    #p += -99999 * (sum(1 for n in nodedurs if len(n)==2) > 1)\n",
      "    p += 20000 * any(len(n) == 4 for n in nodedurs)\n",
      "    p -= 99999 * any(abs(len(n0) - len(n1)) > 1 for n0, n1 in iterlib.window(nodedurs, 2))\n",
      "    p -= 99999 * (max(nodedurs[0]) - min(nodedurs[0]) > 1.5)\n",
      "    p -= 2000 * sum(1 for n in nodedurs if len(set(n)) > len(n))\n",
      "    p -= 200000 * (min(nodedurs[-1]) == nodedurs[-1][-1])\n",
      "    #p -= 200000 * (max(nodedurs[-1] == nodedurs[-1][-1]))\n",
      "    p -= 200000 * (len(nodedurs[-1]) > len(nodedurs[-2]))\n",
      "    return p\n",
      "A_subbranches[branch_index] = SubBranch(\"A\", branch_index,\n",
      "               nodedurcurve=bpf.halfcos(0, 0, 1, 1, exp=1.2), \n",
      "               nodedur_minmax=(D(5,8), D(5,4)),\n",
      "               numnodes_minmax=(3,5), rnd=0.38, pointfunc=func, prefixed_nodes=[], timeout=20, \n",
      "               offsets=1,\n",
      "               force_numit=4\n",
      "               )\n",
      "A_subbranches[branch_index].nodeseq_info\n"
     ],
     "language": "python",
     "metadata": {},
     "outputs": [
      {
       "output_type": "stream",
       "stream": "stdout",
       "text": [
        "maximum node duration:  6.68239950755\n",
        "maximum node duration:  7\n",
        "Best points for (3, 3, 3, 3) is -13339. Iterations: 294"
       ]
      },
      {
       "output_type": "stream",
       "stream": "stdout",
       "text": [
        "\n",
        "Best points for (3, 3, 4, 4) is 21096. Iterations: 307"
       ]
      },
      {
       "output_type": "stream",
       "stream": "stdout",
       "text": [
        "\n",
        "Best points for (3, 3, 5, 5) is -98904. Iterations: 303"
       ]
      },
      {
       "output_type": "stream",
       "stream": "stdout",
       "text": [
        "\n",
        "Best points for (3, 4, 4, 4) is 21099. Iterations: 300"
       ]
      },
      {
       "output_type": "stream",
       "stream": "stdout",
       "text": [
        "\n",
        "Best points for (3, 4, 5, 5) is 20188. Iterations: 290"
       ]
      },
      {
       "output_type": "stream",
       "stream": "stdout",
       "text": [
        "\n",
        "Best points for (4, 4, 4, 4) is 21096. Iterations: 269"
       ]
      },
      {
       "output_type": "stream",
       "stream": "stdout",
       "text": [
        "\n",
        "Best points for (4, 4, 5, 5) is 15941. Iterations: 260"
       ]
      },
      {
       "output_type": "stream",
       "stream": "stdout",
       "text": [
        "\n",
        "Best points for (4, 5, 5, 5) is 10277. Iterations: 238"
       ]
      },
      {
       "output_type": "stream",
       "stream": "stdout",
       "text": [
        "\n",
        "Best points for (5, 5, 5, 5) is -13096. Iterations: 233"
       ]
      },
      {
       "output_type": "stream",
       "stream": "stdout",
       "text": [
        "\n",
        ">>>> points:  21099.9387941\n"
       ]
      },
      {
       "metadata": {},
       "output_type": "pyout",
       "prompt_number": 677,
       "text": [
        "calculate_nodeseq(nodes_per_it=(3, 4, 4, 4), pulseseries=[2.5, 2.5, 3.0, 4.0, 3.0, 5.0, 4.5, 5.0], nodedurs=[[2.5, 3.0, 2.5], [3.0, 2.5, 4.0, 3.5], [2.5, 4.0, 3.5, 5.0], [4.0, 3.5, 5.0, 5.0]], dursecs=80.25)"
       ]
      }
     ],
     "prompt_number": 677
    },
    {
     "cell_type": "code",
     "collapsed": false,
     "input": [
      "branch_index = 4\n",
      "def func(nodedurs, dursecs, diff):\n",
      "    p = 0\n",
      "    lens = map(len, nodedurs)\n",
      "    #p += (diff_penalty(abs(diff)/dursecs) * 0.00001)\n",
      "    p -= 99999 * any(abs(len(n0) - len(n1)) > 1 for n0, n1 in iterlib.window(nodedurs, 2))\n",
      "    p -= 99999 * (max(lens) - min(lens) > 1)\n",
      "    p -= 99999 * (max(nodedurs[-1]) == nodedurs[-1][0])\n",
      "    return p\n",
      "B_subbranches[branch_index] = SubBranch(\"B\", branch_index, nodedurcurve=bpf.halfcos(0, 0, 0.72, 1, 1, 0.38, exp=1.2),\n",
      "                                        nodedur_minmax=(D(3,16), D(3,8)), numnodes_minmax=(1,3), rnd=0.35, timeout=2,\n",
      "                                        # force_numit=3, \n",
      "                                        pointfunc=func\n",
      "                                        )\n",
      "B_subbranches[branch_index].nodeseq_info\n"
     ],
     "language": "python",
     "metadata": {},
     "outputs": [
      {
       "output_type": "stream",
       "stream": "stdout",
       "text": [
        "maximum node duration:  7.22630514857\n",
        "maximum node duration:  7\n",
        "Best points for (1, 1, 1) is -99016. Iterations: 467"
       ]
      },
      {
       "output_type": "stream",
       "stream": "stdout",
       "text": [
        "\n",
        "Best points for (1, 1, 2) is -99014. Iterations: 477"
       ]
      },
      {
       "output_type": "stream",
       "stream": "stdout",
       "text": [
        "\n",
        "Best points for (1, 2, 2) is -99012. Iterations: 483"
       ]
      },
      {
       "output_type": "stream",
       "stream": "stdout",
       "text": [
        "\n",
        "Best points for (1, 2, 3) is -99010. Iterations: 479"
       ]
      },
      {
       "output_type": "stream",
       "stream": "stdout",
       "text": [
        "\n",
        "Best points for (2, 2, 2) is -99010. Iterations: 463"
       ]
      },
      {
       "output_type": "stream",
       "stream": "stdout",
       "text": [
        "\n",
        "Best points for (2, 2, 3) is 989. Iterations: 452"
       ]
      },
      {
       "output_type": "stream",
       "stream": "stdout",
       "text": [
        "\n",
        "Best points for (2, 3, 3) is 992. Iterations: 450"
       ]
      },
      {
       "output_type": "stream",
       "stream": "stdout",
       "text": [
        "\n",
        "Best points for (3, 3, 3) is 994. Iterations: 440"
       ]
      },
      {
       "output_type": "stream",
       "stream": "stdout",
       "text": [
        "\n",
        "warning: the best solution differs from the desired duration in 27.0%\n",
        ">>>> points:  994.071084554\n"
       ]
      },
      {
       "metadata": {},
       "output_type": "pyout",
       "prompt_number": 696,
       "text": [
        "calculate_nodeseq(nodes_per_it=(3, 3, 3), pulseseries=[0.75, 1.25, 1.0, 1.5, 1.0], nodedurs=[[0.75, 1.0, 1.25], [1.0, 1.25, 1.5], [1.25, 1.5, 1.0]], dursecs=15.75)"
       ]
      }
     ],
     "prompt_number": 696
    },
    {
     "cell_type": "markdown",
     "metadata": {},
     "source": [
      "# Branch 6"
     ]
    },
    {
     "cell_type": "code",
     "collapsed": false,
     "input": [
      "branch_index = 6\n",
      "diff_penalty = bpf.linear(0, 0, 0.1, 0, 0.2, -10000, 0.3, -20000, 0.4, -9999999999)\n",
      "def func(nodedurs, dursecs, diff):\n",
      "    p  = 100 * (nodedurs[0][0] != nodedurs[0][1])\n",
      "    p += diff_penalty(abs(diff)/dursecs) * 0.1\n",
      "    for n in nodedurs:\n",
      "        if len(set(n)) != len(n):\n",
      "            p -= 10000\n",
      "    p -= 1999 * sum(1 for n in nodedurs if len(n) == 2)\n",
      "    #p += -99999 * (sum(1 for n in nodedurs if len(n)==2) > 1)\n",
      "    #p += 20000 * any(len(n) == 4 for n in nodedurs)\n",
      "    p -= 99999 * any(abs(len(n0) - len(n1)) > 1 for n0, n1 in iterlib.window(nodedurs, 2))\n",
      "    p -= 99999 * (max(nodedurs[0]) - min(nodedurs[0]) > 1.5)\n",
      "    p -= 2000 * sum(1 for n in nodedurs if len(set(n)) > len(n))\n",
      "    #p -= 200000 * (min(nodedurs[-1]) == nodedurs[-1][-1])\n",
      "    #p -= 200000 * (max(nodedurs[-1] == nodedurs[-1][-1]))\n",
      "    #p -= 200000 * (len(nodedurs[-1]) > len(nodedurs[-2]))\n",
      "    return p\n",
      "nodedurcurve = bpf.expon(0, 0, 1, 1, exp=1)\n",
      "nodedurcurve.plot()\n",
      "A_subbranches[branch_index] = SubBranch(\"A\", branch_index,\n",
      "               nodedurcurve=nodedurcurve, \n",
      "               nodedur_minmax=(D(4,8), D(4, 4)),\n",
      "               numnodes_minmax=(2,4), rnd=0.5, pointfunc=func, prefixed_nodes=[], timeout=20, \n",
      "               offsets=1,\n",
      "               #force_numit=4\n",
      "               )\n",
      "nodeseq = A_subbranches[branch_index].nodeseq_info\n",
      "print nodeseq\n",
      "print \"duration in pulses: \", sum(sum(nodes) for nodes in nodeseq.nodedurs)\n",
      "\n"
     ],
     "language": "python",
     "metadata": {},
     "outputs": [
      {
       "output_type": "stream",
       "stream": "stdout",
       "text": [
        "maximum node duration:  4.29531395463\n",
        "maximum node duration:  7\n",
        "Best points for (2, 2, 2) is -4898. Iterations: 458"
       ]
      },
      {
       "output_type": "stream",
       "stream": "stdout",
       "text": [
        "\n",
        "Best points for (2, 2, 3) is -3521. Iterations: 466"
       ]
      },
      {
       "output_type": "stream",
       "stream": "stdout",
       "text": [
        "\n",
        "Best points for (2, 3, 3) is -2750. Iterations: 465"
       ]
      },
      {
       "output_type": "stream",
       "stream": "stdout",
       "text": [
        "\n",
        "warning: the best solution differs from the desired duration in 40.0%"
       ]
      },
      {
       "output_type": "stream",
       "stream": "stdout",
       "text": [
        "\n",
        ">>>> points:  -2750.37152522\n",
        "calculate_nodeseq(nodes_per_it=(2, 3, 3), pulseseries=[2.0, 3.0, 2.5, 3.0, 3.5, 4.0], nodedurs=[[2.0, 2.5], [2.5, 3.5, 3.0], [3.5, 3.0, 4.0]], dursecs=36.0)\n",
        "duration in pulses:  24.0\n"
       ]
      },
      {
       "metadata": {},
       "output_type": "display_data",
       "png": "[encoded data removed]",
       "text": [
        "<matplotlib.figure.Figure at 0xea47710>"
       ]
      }
     ],
     "prompt_number": 757
    },
    {
     "cell_type": "code",
     "collapsed": false,
     "input": [
      "branch_index = 6\n",
      "def func(nodedurs, dursecs, diff):\n",
      "    p = 0\n",
      "    lens = map(len, nodedurs)\n",
      "    #p += (diff_penalty(abs(diff)/dursecs) * 0.001)\n",
      "    p -= 99999 * any(abs(len(n0) - len(n1)) > 1 for n0, n1 in iterlib.window(nodedurs, 2))\n",
      "    p -= 99999 * (max(lens) - min(lens) > 1)\n",
      "    p -= 99999 * (max(nodedurs[-1]) == nodedurs[-1][0])\n",
      "    return p\n",
      "curve = bpf.expon(0, 0, 1, 1, exp=1.0)\n",
      "B_subbranches[branch_index] = SubBranch(\"B\", branch_index, nodedurcurve=curve,\n",
      "                                        nodedur_minmax=(D(2,16), D(4,16)), numnodes_minmax=(2,4), rnd=0.35, timeout=10,\n",
      "                                        #force_numit=1, \n",
      "                                        pointfunc=func\n",
      "                                        )\n",
      "B_subbranches[branch_index].nodeseq_info\n"
     ],
     "language": "python",
     "metadata": {},
     "outputs": [
      {
       "output_type": "stream",
       "stream": "stdout",
       "text": [
        "maximum node duration:  1.12051668382\n",
        "maximum node duration:  7\n",
        "Best points for (2,) is 999. Iterations: 1493"
       ]
      },
      {
       "output_type": "stream",
       "stream": "stdout",
       "text": [
        "\n",
        "Best points for (3,) is 998. Iterations: 1575"
       ]
      },
      {
       "output_type": "stream",
       "stream": "stdout",
       "text": [
        "\n",
        "Best points for (4,) is 997. Iterations: 1568"
       ]
      },
      {
       "output_type": "stream",
       "stream": "stdout",
       "text": [
        "\n",
        ">>>> points:  999.991033368\n"
       ]
      },
      {
       "metadata": {},
       "output_type": "pyout",
       "prompt_number": 774,
       "text": [
        "calculate_nodeseq(nodes_per_it=(2,), pulseseries=[0.5, 0.75, 0.75, 1.0], nodedurs=[[0.5, 1.0]], dursecs=2.25)"
       ]
      }
     ],
     "prompt_number": 774
    },
    {
     "cell_type": "markdown",
     "metadata": {},
     "source": [
      "## Print the Subbranches"
     ]
    },
    {
     "cell_type": "code",
     "collapsed": false,
     "input": [
      "def print_subbranches():\n",
      "    for i in range(len(branches)):\n",
      "        A = A_subbranches.get(i)\n",
      "        if A:\n",
      "            print A.nodedurs\n",
      "            \n",
      "print_subbranches()"
     ],
     "language": "python",
     "metadata": {},
     "outputs": [],
     "prompt_number": 359
    },
    {
     "cell_type": "markdown",
     "metadata": {},
     "source": [
      "# C curve"
     ]
    },
    {
     "cell_type": "markdown",
     "metadata": {},
     "source": [
      "# "
     ]
    },
    {
     "cell_type": "code",
     "collapsed": false,
     "input": [
      "C_maxdur = D(4, 4)\n",
      "C_numframes = len(branches) - 1\n",
      "C_offsets = branches.get_column('offset')[1:]\n",
      "C_durcurve = bpf.multi(\n",
      "    0, 0, 'halfcos(0.8)',\n",
      "    0.88, 1, 'linear',\n",
      "    1, 0.68) * C_maxdur\n",
      "durs = C_durcurve.map(C_numframes)\n",
      "results = []\n",
      "t0 = time.time()\n",
      "while time.time() - t0 < 2:\n",
      "    durs2 = combinatorics.unsortx(durs, 0.3, margin=(1,1), numiterations=50)\n",
      "    durs2 = [lib.nearest_element(d, [0, 0.5, 0.75, 1, 1.25, 1.5, 2, 2.5, 3, 3.5, 4, 4.5, 5, 6, 7]) for d in durs2]\n",
      "    p = 0\n",
      "    p -= 1000 * sum(n1==n2==n3 for n1, n2, n3 in iterlib.window(durs2, 3))\n",
      "    p -= 1000 * sum(abs(n2-n1)>1.25 for n1, n2 in iterlib.window(durs2, 2))\n",
      "    p -= 1000 * sum(len(set([n1, n2, n3, n4]))<=2 for n1, n2, n3, n4 in iterlib.window(durs2, 4))\n",
      "    p -= 3000 * sum(n1==n2==C_maxdur for n1, n2 in iterlib.window(durs2, 2))\n",
      "    p -= 5000 * sum(n1 < n2 and n2 > n3 and n2-n1>= 1 for n1, n2, n3 in iterlib.window(durs2, 3))\n",
      "    results.append((p, durs2))\n",
      "results.sort()\n",
      "C_durs = results[-1][1]\n",
      "print \"puntos:\", results[-1][0]\n",
      "                   \n",
      "    \n",
      "\n",
      "plt.bar(C_offsets, C_durs, width=C_durs)\n",
      "C_durs"
     ],
     "language": "python",
     "metadata": {},
     "outputs": [
      {
       "output_type": "stream",
       "stream": "stdout",
       "text": [
        "puntos: -28000\n"
       ]
      },
      {
       "metadata": {},
       "output_type": "pyout",
       "prompt_number": 775,
       "text": [
        "[0, 0, 2, 1, 0.5, 3, 1.5, 3, 2.5, 4, 3.5, 4, 3.5, 4, 2.5]"
       ]
      },
      {
       "metadata": {},
       "output_type": "display_data",
       "png": "[encoded data removed]",
       "text": [
        "<matplotlib.figure.Figure at 0xeddbcd0>"
       ]
      }
     ],
     "prompt_number": 775
    },
    {
     "cell_type": "code",
     "collapsed": false,
     "input": [
      "import itertools\n",
      "from em import iterlib\n",
      "def c_durs():\n",
      "    multipliers_dict = {'1': D(5,16), '2':D(8,16), '3':D(11,16), '4':D(14,16)}\n",
      "    talea = \"12312231234\"\n",
      "    talea = itertools.cycle(talea)\n",
      "    mindur, maxdur = D(5,16), D(3.5, 4)\n",
      "    minratio, maxratio = 1, 1.38\n",
      "    curve = bpf.halfcos(0, minratio, 1, maxratio)\n",
      "    index0, index1 = 6, 15\n",
      "    multipliers = [multipliers_dict[k] for k in iterlib.take(talea, index1-index0)]\n",
      "    curvevalues = curve.map(len(multipliers))\n",
      "    #curvevalues = combinatorics.unsortx(curvevalues, 0.35, margin=1, numiterations=50)\n",
      "    durations = [timing.quantize_duration(mul.dur * v, possible_divisions=(8, 16, 32)).snapped for mul, v in zip(multipliers, curvevalues)]\n",
      "    durations = [max(min(dur, float(maxdur)), float(mindur)) for dur in durations]\n",
      "    return durations\n",
      "c_durs = c_durs()\n",
      "#plt.bar(range(len(c_durs)), c_durs)\n",
      "def c_divisions(totaldur):\n",
      "    talea = \"124243431234234\"\n",
      "    celdurs_dict = {'1':D(3,16), '2':D(4,16), '3':D(5,16), '4':D(7,16)}\n",
      "    talea = itertools.cycle(talea)\n",
      "    celdurs = (celdurs_dict[t] for t in talea)\n",
      "    #curve = bpf.halfcos(0, 1.61, 0.38, 0.38, 1, 2).fit_between(0, totaldur)\n",
      "    curve = bpf.halfcos(0, 0.68, 1, 2).fit_between(0, totaldur)\n",
      "    durs = []\n",
      "    t = 0\n",
      "    while t < totaldur:\n",
      "        dur = max(float(celdurs.next()) * curve(t), 0.25)\n",
      "        dur = timing.quantize_duration(dur, possible_divisions=(4, 8, 16, 32)).snapped\n",
      "        durs.append(dur)\n",
      "        t += dur\n",
      "    return durs\n",
      "    plt.bar(range(len(durs)), durs)\n",
      "def _c_fit(framedurs, divisions):\n",
      "    packed = []\n",
      "    divs = iter(divisions)\n",
      "    for framedur in framedurs:\n",
      "        d = 0\n",
      "        thisdivs = []\n",
      "        while d < framedur:\n",
      "            try:\n",
      "                nextdiv = divs.next()\n",
      "            except StopIteration:\n",
      "                return None\n",
      "            newd = min(divs.next(), framedur)\n",
      "            d += newd\n",
      "            thisdivs.append(newd)\n",
      "        packed.append(thisdivs)\n",
      "    return packed\n",
      "\n",
      "def c_fit():\n",
      "    delta_dur = 0.25\n",
      "    totaldur = sum(c_durs)\n",
      "    while True:\n",
      "        cdivs = c_divisions(totaldur)\n",
      "        packed = _c_fit(c_durs, c_divisions)\n",
      "        if packed:\n",
      "            break\n",
      "        totaldur += delta_dur\n",
      "    return packed\n",
      "        \n",
      "\n",
      "                    \n",
      "c_divisions = c_divisions(sum(c_durs))\n",
      "for row in zip(c_durs, c_fit(c_durs, c_divisions)):\n",
      "    print row"
     ],
     "language": "python",
     "metadata": {},
     "outputs": [
      {
       "output_type": "stream",
       "stream": "stdout",
       "text": [
        "(1.25, [0.5, 0.625, 1.25])\n",
        "(2.0, [0.75, 1.375])\n",
        "(2.875, [1.0, 1.625, 1.25])\n",
        "(1.375, [0.875, 1.25])\n",
        "(2.375, [1.75, 2.375])\n",
        "(2.5, [1.75, 2.375])\n",
        "(3.5, [3.5])\n",
        "(1.75, [0.5, 0.625, 1.25])\n",
        "(2.75, [0.75, 1.375, 1.0])\n"
       ]
      }
     ],
     "prompt_number": 870
    },
    {
     "cell_type": "code",
     "collapsed": false,
     "input": [
      "g = (x for x in xrange(1000))\n",
      "next(g)"
     ],
     "language": "python",
     "metadata": {},
     "outputs": [
      {
       "metadata": {},
       "output_type": "pyout",
       "prompt_number": 838,
       "text": [
        "0"
       ]
      }
     ],
     "prompt_number": 838
    },
    {
     "cell_type": "code",
     "collapsed": false,
     "input": [
      "g.next()"
     ],
     "language": "python",
     "metadata": {},
     "outputs": [
      {
       "metadata": {},
       "output_type": "pyout",
       "prompt_number": 843,
       "text": [
        "5"
       ]
      },
      {
       "metadata": {},
       "output_type": "pyout",
       "prompt_number": 844,
       "text": [
        "6"
       ]
      }
     ],
     "prompt_number": 844
    }
   ],
   "metadata": {}
  }
 ]
}