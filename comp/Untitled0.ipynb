{
 "metadata": {
  "name": ""
 },
 "nbformat": 3,
 "nbformat_minor": 0,
 "worksheets": [
  {
   "cells": [
    {
     "cell_type": "code",
     "collapsed": false,
     "input": [
      "from bpf4 import bpf\n",
      "from peach import *\n"
     ],
     "language": "python",
     "metadata": {},
     "outputs": [],
     "prompt_number": 1
    },
    {
     "cell_type": "code",
     "collapsed": false,
     "input": [
      "a = bpf.halfcos(0, n2f(\"F#5\"), 1, n2f(\"A5\"))\n",
      "b = bpf.halfcos(0, n2f(\"C6\"), 1, n2f(\"E5\"))\n",
      "c = bpf.halfcos(0, n2f(\"Eb6\"), 1, n2f(\"C6\"))\n"
     ],
     "language": "python",
     "metadata": {},
     "outputs": [],
     "prompt_number": 40
    },
    {
     "cell_type": "code",
     "collapsed": false,
     "input": [
      "d_ab = (a-b).abs().apply(f2m)\n",
      "d_bc = (b-c).abs().apply(f2m)\n",
      "d_ac = (a-c).abs().apply(f2m)\n",
      "s_ab = ((a+b)/d).apply(f2m)\n",
      "s_ab.plot()\n",
      "d = bpf.util.max_(d_ab, d_bc, d_ac)\n",
      "d.plot()\n",
      "e = d_bd = (d-(b-c)).abs().apply"
     ],
     "language": "python",
     "metadata": {},
     "outputs": [
      {
       "metadata": {},
       "output_type": "display_data",
       "png": "[encoded data removed]",
       "text": [
        "<matplotlib.figure.Figure at 0x8b831d0>"
       ]
      }
     ],
     "prompt_number": 44
    },
    {
     "cell_type": "code",
     "collapsed": false,
     "input": [],
     "language": "python",
     "metadata": {},
     "outputs": []
    }
   ],
   "metadata": {}
  }
 ]
}